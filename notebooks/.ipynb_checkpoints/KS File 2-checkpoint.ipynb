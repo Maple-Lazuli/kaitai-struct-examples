{
 "cells": [
  {
   "cell_type": "code",
   "execution_count": 2,
   "id": "ab8cf25e-5c4e-4232-94a9-37923e93a905",
   "metadata": {},
   "outputs": [
    {
     "ename": "ImportError",
     "evalue": "cannot import name 'stream_format' from 'kaitaistruct' (C:\\Users\\TheNo\\OneDrive\\Desktop\\Code Project\\kaitai-struct-examples\\jn\\Lib\\site-packages\\kaitaistruct.py)",
     "output_type": "error",
     "traceback": [
      "\u001b[1;31m---------------------------------------------------------------------------\u001b[0m",
      "\u001b[1;31mImportError\u001b[0m                               Traceback (most recent call last)",
      "Cell \u001b[1;32mIn[2], line 2\u001b[0m\n\u001b[0;32m      1\u001b[0m \u001b[38;5;28;01mimport\u001b[39;00m \u001b[38;5;21;01mio\u001b[39;00m\n\u001b[1;32m----> 2\u001b[0m \u001b[38;5;28;01mfrom\u001b[39;00m \u001b[38;5;21;01mkaitaistruct\u001b[39;00m \u001b[38;5;28;01mimport\u001b[39;00m stream_format\n\u001b[0;32m      4\u001b[0m \u001b[38;5;28;01mdef\u001b[39;00m \u001b[38;5;21mparse_stream_data\u001b[39m(data_stream):\n\u001b[0;32m      5\u001b[0m     \u001b[38;5;66;03m# Initialize the Kaitai Struct parser\u001b[39;00m\n\u001b[0;32m      6\u001b[0m     parser \u001b[38;5;241m=\u001b[39m stream_format\u001b[38;5;241m.\u001b[39mParser(io\u001b[38;5;241m.\u001b[39mBytesIO(data_stream))\n",
      "\u001b[1;31mImportError\u001b[0m: cannot import name 'stream_format' from 'kaitaistruct' (C:\\Users\\TheNo\\OneDrive\\Desktop\\Code Project\\kaitai-struct-examples\\jn\\Lib\\site-packages\\kaitaistruct.py)"
     ]
    }
   ],
   "source": [
    "import io\n",
    "from file2 import File2\n",
    "\n",
    "def parse_stream_data(data_stream):\n",
    "    # Initialize the Kaitai Struct parser\n",
    "    parser = stream_format.Parser(io.BytesIO(data_stream))\n",
    "\n",
    "    try:\n",
    "        while not parser._io.is_eof():\n",
    "            parsed_data = parser.parse_next()\n",
    "            print(\"Parsed Value:\", parsed_data.some_value)\n",
    "    except stream_format.EOFError:\n",
    "        print(\"End of file reached.\")\n",
    "\n",
    "# Open the binary file as a stream\n",
    "with open(\"your_binary_file.bin\", \"rb\") as f:\n",
    "    parse_stream_data(f.read())"
   ]
  },
  {
   "cell_type": "code",
   "execution_count": null,
   "id": "d6cb2423-bdc8-461f-84fe-8b4ce7b75704",
   "metadata": {},
   "outputs": [],
   "source": []
  }
 ],
 "metadata": {
  "kernelspec": {
   "display_name": "Python 3 (ipykernel)",
   "language": "python",
   "name": "python3"
  },
  "language_info": {
   "codemirror_mode": {
    "name": "ipython",
    "version": 3
   },
   "file_extension": ".py",
   "mimetype": "text/x-python",
   "name": "python",
   "nbconvert_exporter": "python",
   "pygments_lexer": "ipython3",
   "version": "3.11.3"
  }
 },
 "nbformat": 4,
 "nbformat_minor": 5
}
