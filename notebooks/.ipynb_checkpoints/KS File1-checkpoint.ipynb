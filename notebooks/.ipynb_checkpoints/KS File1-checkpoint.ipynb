{
 "cells": [
  {
   "cell_type": "code",
   "execution_count": 2,
   "id": "4a0b23a4-22e1-4903-9f29-41a2f6a45b5e",
   "metadata": {},
   "outputs": [],
   "source": [
    "from file1 import File1"
   ]
  },
  {
   "cell_type": "code",
   "execution_count": 3,
   "id": "13798aef-bdd4-44f4-9cbf-28ce66bb4cfc",
   "metadata": {},
   "outputs": [],
   "source": [
    "data_file = \"../data/file1.dat\""
   ]
  },
  {
   "cell_type": "code",
   "execution_count": 6,
   "id": "24e50110-f0b4-4d21-a497-f757854a775b",
   "metadata": {},
   "outputs": [],
   "source": [
    "with open(data_file, \"rb\") as fin:\n",
    "    data = fin.read()"
   ]
  },
  {
   "cell_type": "code",
   "execution_count": 8,
   "id": "7e03cfc1-1d97-4a51-9311-1f1a9e72d574",
   "metadata": {},
   "outputs": [
    {
     "data": {
      "text/plain": [
       "255"
      ]
     },
     "execution_count": 8,
     "metadata": {},
     "output_type": "execute_result"
    }
   ],
   "source": [
    "File1.from_bytes(data)"
   ]
  },
  {
   "cell_type": "code",
   "execution_count": null,
   "id": "4a7e8503-b3d8-490b-9cbf-068a85f1127e",
   "metadata": {},
   "outputs": [],
   "source": []
  }
 ],
 "metadata": {
  "kernelspec": {
   "display_name": "Python 3 (ipykernel)",
   "language": "python",
   "name": "python3"
  },
  "language_info": {
   "codemirror_mode": {
    "name": "ipython",
    "version": 3
   },
   "file_extension": ".py",
   "mimetype": "text/x-python",
   "name": "python",
   "nbconvert_exporter": "python",
   "pygments_lexer": "ipython3",
   "version": "3.11.3"
  }
 },
 "nbformat": 4,
 "nbformat_minor": 5
}
