{
 "cells": [
  {
   "cell_type": "code",
   "execution_count": 5,
   "id": "c12c8a63-e62a-449f-acc5-47a67887b935",
   "metadata": {},
   "outputs": [],
   "source": [
    "data_file = \"../data/file1.dat\""
   ]
  },
  {
   "cell_type": "code",
   "execution_count": 6,
   "id": "9dbb5989-e4b9-4c56-b652-d9d833b8800a",
   "metadata": {},
   "outputs": [],
   "source": [
    "with open(data_file, 'wb') as file_out:\n",
    "    file_out.write(b\"\\x00\\xff\\x80\\x45\\x33\")"
   ]
  },
  {
   "cell_type": "code",
   "execution_count": 7,
   "id": "7d3282e5-12ab-4129-b4fb-b6b971a4505b",
   "metadata": {},
   "outputs": [],
   "source": [
    "data_file2 = \"../data/file2.dat\""
   ]
  },
  {
   "cell_type": "code",
   "execution_count": 8,
   "id": "fbf308ed-b567-4f6f-9035-eee8420f83b5",
   "metadata": {},
   "outputs": [],
   "source": [
    "with open(data_file2, 'wb') as file_out:\n",
    "    file_out.write(b\"\\x44\\x22\\x09\\x11\")\n",
    "    file_out.write(b\"\\x00\\xff\\x80\\x45\\x33\")\n",
    "    file_out.write(b\"\\x00\\x00\\x00\")"
   ]
  },
  {
   "cell_type": "code",
   "execution_count": null,
   "id": "13839924-f6ac-4a1c-a4da-48274f7448aa",
   "metadata": {},
   "outputs": [],
   "source": []
  }
 ],
 "metadata": {
  "kernelspec": {
   "display_name": "Python 3 (ipykernel)",
   "language": "python",
   "name": "python3"
  },
  "language_info": {
   "codemirror_mode": {
    "name": "ipython",
    "version": 3
   },
   "file_extension": ".py",
   "mimetype": "text/x-python",
   "name": "python",
   "nbconvert_exporter": "python",
   "pygments_lexer": "ipython3",
   "version": "3.11.3"
  }
 },
 "nbformat": 4,
 "nbformat_minor": 5
}
