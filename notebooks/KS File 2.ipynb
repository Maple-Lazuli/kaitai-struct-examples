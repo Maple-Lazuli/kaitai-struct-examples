{
 "cells": [
  {
   "cell_type": "code",
   "execution_count": 6,
   "id": "ab8cf25e-5c4e-4232-94a9-37923e93a905",
   "metadata": {},
   "outputs": [],
   "source": [
    "from file1 import File1\n",
    "data_file2 = \"../data/file2.dat\""
   ]
  },
  {
   "cell_type": "code",
   "execution_count": 7,
   "id": "d6cb2423-bdc8-461f-84fe-8b4ce7b75704",
   "metadata": {},
   "outputs": [],
   "source": [
    "with open(data_file2, \"rb\") as fin:\n",
    "    data = fin.read()"
   ]
  },
  {
   "cell_type": "code",
   "execution_count": 8,
   "id": "9d10ba39-cab6-4429-9a6c-066d68c1a66f",
   "metadata": {},
   "outputs": [
    {
     "data": {
      "text/plain": [
       "<file1.File1 at 0x17d2da72410>"
      ]
     },
     "execution_count": 8,
     "metadata": {},
     "output_type": "execute_result"
    }
   ],
   "source": [
    "File1.from_bytes(data)."
   ]
  },
  {
   "cell_type": "code",
   "execution_count": 10,
   "id": "6cad15f6-4be2-4cf5-ac8a-26257a420bee",
   "metadata": {},
   "outputs": [
    {
     "data": {
      "text/plain": [
       "<file1.File1 at 0x17d2da73ad0>"
      ]
     },
     "execution_count": 10,
     "metadata": {},
     "output_type": "execute_result"
    }
   ],
   "source": [
    "File1.from_file(data_file2)"
   ]
  },
  {
   "cell_type": "code",
   "execution_count": null,
   "id": "9429495d-e587-4d1d-bd34-fe45b8aa07bf",
   "metadata": {},
   "outputs": [],
   "source": []
  }
 ],
 "metadata": {
  "kernelspec": {
   "display_name": "Python 3 (ipykernel)",
   "language": "python",
   "name": "python3"
  },
  "language_info": {
   "codemirror_mode": {
    "name": "ipython",
    "version": 3
   },
   "file_extension": ".py",
   "mimetype": "text/x-python",
   "name": "python",
   "nbconvert_exporter": "python",
   "pygments_lexer": "ipython3",
   "version": "3.11.3"
  }
 },
 "nbformat": 4,
 "nbformat_minor": 5
}
